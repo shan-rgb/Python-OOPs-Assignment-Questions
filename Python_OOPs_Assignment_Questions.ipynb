{
  "nbformat": 4,
  "nbformat_minor": 0,
  "metadata": {
    "colab": {
      "provenance": []
    },
    "kernelspec": {
      "name": "python3",
      "display_name": "Python 3"
    },
    "language_info": {
      "name": "python"
    }
  },
  "cells": [
    {
      "cell_type": "markdown",
      "source": [
        "# **Python OOPs Questions**"
      ],
      "metadata": {
        "id": "lhy6ucBX06oA"
      }
    },
    {
      "cell_type": "markdown",
      "source": [
        "Q1. What is Object-Oriented Programming (OOP)?\n",
        "\n",
        "Ans:\n",
        " OOP is a programming paradigm that organizes software design around objects, which represent real-world entities. It emphasizes:\n",
        "\n",
        "**Encapsulation** (bundling data and methods together),\n",
        "\n",
        "**Inheritance** (reusing code),\n",
        "\n",
        "**Polymorphism** (handling different data types with a uniform interface), and\n",
        "\n",
        "**Abstraction** (hiding implementation details).\n"
      ],
      "metadata": {
        "id": "l778I0XbsPDW"
      }
    },
    {
      "cell_type": "markdown",
      "source": [
        "Q2. What is a class in OOP?\n",
        "\n",
        "Ans:\n",
        "A class is a blueprint for creating objects. It defines the structure (attributes) and behavior (methods) of the objects. Example in Python:"
      ],
      "metadata": {
        "id": "AR4j301_sk3D"
      }
    },
    {
      "cell_type": "code",
      "source": [
        "class Car:\n",
        "    def __init__(self, brand, model):\n",
        "        self.brand = brand\n",
        "        self.model = model\n"
      ],
      "metadata": {
        "id": "zeROHTLQs0d9"
      },
      "execution_count": 1,
      "outputs": []
    },
    {
      "cell_type": "markdown",
      "source": [
        "Q3. What is an object in OOP?\n",
        "\n",
        "Ans:\n",
        "An object is an instance of a class. It contains data (attributes) and methods (functions) defined by its class."
      ],
      "metadata": {
        "id": "Zrxu2MSms5ky"
      }
    },
    {
      "cell_type": "code",
      "source": [
        "car1 = Car(\"Toyota\", \"Corolla\")\n"
      ],
      "metadata": {
        "id": "oy7bkJr4s-6B"
      },
      "execution_count": 2,
      "outputs": []
    },
    {
      "cell_type": "markdown",
      "source": [
        "Q4. What is the difference between abstraction and encapsulation?\n",
        "\n",
        "Ans:\n",
        "**Abstraction** hides complexity by showing only essential details.\n",
        "Example: Using a car without knowing its engine mechanics.\n",
        "\n",
        "**Encapsulation** bundles data and methods into a single unit and restricts access using access modifiers (e.g., private attributes).\n",
        "Example: Protecting a car's internal components."
      ],
      "metadata": {
        "id": "gZQ8fCrRtG-Q"
      }
    },
    {
      "cell_type": "markdown",
      "source": [
        "Q5. What are dunder methods in Python?\n",
        "\n",
        "Ans:\n",
        "**Dunder methods** (double underscore) are special methods in Python with names like _ _ init_ _ ,  _ _ str_ _ , etc. They define the behavior of objects for built-in operations.\n",
        "\n",
        "Example: _ _ add_ _ for + ,  _ _ str_ _ for string representation."
      ],
      "metadata": {
        "id": "AVWMIshO0RVk"
      }
    },
    {
      "cell_type": "markdown",
      "source": [
        "Q6. Explain the concept of inheritance in OOP.\n",
        "\n",
        "Ans:\n",
        "**Inheritance** allows a class (child) to inherit attributes and methods from another class (parent).\n",
        "\n",
        "Example:"
      ],
      "metadata": {
        "id": "g7WhGWb8ukjX"
      }
    },
    {
      "cell_type": "code",
      "source": [
        "class Animal:\n",
        "    def speak(self):\n",
        "        print(\"Animal speaks\")\n",
        "\n",
        "class Dog(Animal):\n",
        "    def speak(self):\n",
        "        print(\"Dog barks\")\n",
        "\n"
      ],
      "metadata": {
        "id": "z12465CeusLG"
      },
      "execution_count": 10,
      "outputs": []
    },
    {
      "cell_type": "markdown",
      "source": [
        "Q7. What is polymorphism in OOP?\n",
        "\n",
        "Ans:\n",
        "**Polymorphism** allows objects of different classes to be treated uniformly.\n",
        "\n",
        "Example:"
      ],
      "metadata": {
        "id": "DvqA0qCHu_2b"
      }
    },
    {
      "cell_type": "code",
      "source": [
        "for animal in [Dog(), Cat()]:\n",
        "    animal.speak()\n"
      ],
      "metadata": {
        "id": "vxyY0f7rvp7s"
      },
      "execution_count": null,
      "outputs": []
    },
    {
      "cell_type": "markdown",
      "source": [
        "Q8. How is encapsulation achieved in Python?\n",
        "\n",
        "Ans:\n",
        "**Encapsulation** is achieved using private attributes and methods by prefixing them with _ or _ _.\n",
        "\n",
        "Example:"
      ],
      "metadata": {
        "id": "ewQbNH7ivrU8"
      }
    },
    {
      "cell_type": "code",
      "source": [
        "class Account:\n",
        "    def __init__(self):\n",
        "        self.__balance = 0  # private variable\n",
        "\n",
        "    def deposit(self, amount):\n",
        "        self.__balance += amount\n"
      ],
      "metadata": {
        "id": "JYk3Q5TPv3ZZ"
      },
      "execution_count": 12,
      "outputs": []
    },
    {
      "cell_type": "markdown",
      "source": [
        "Q9. What is a constructor in Python?\n",
        "\n",
        "Ans:\n",
        "A **constructor** is a special method (_ _ init _ _) that initializes an object’s attributes when it is created."
      ],
      "metadata": {
        "id": "eFw3alTuv6x8"
      }
    },
    {
      "cell_type": "code",
      "source": [
        "class Person:\n",
        "    def __init__(self, name):\n",
        "        self.name = name\n"
      ],
      "metadata": {
        "id": "ZOjGHeb2wcVR"
      },
      "execution_count": 13,
      "outputs": []
    },
    {
      "cell_type": "markdown",
      "source": [
        "Q10. What are class and static methods in Python?\n",
        "\n",
        "Ans:\n",
        "**Class methods** (@classmethod) take cls as their first parameter and can access class-level data.\n",
        "\n",
        "**Static methods** (@staticmethod) don’t access class or instance data."
      ],
      "metadata": {
        "id": "9y4odrySwffz"
      }
    },
    {
      "cell_type": "markdown",
      "source": [
        "Q11. What is method overloading in Python?\n",
        "\n",
        "Ans:\n",
        "Python doesn't support traditional method overloading but achieves it through default arguments or variable arguments."
      ],
      "metadata": {
        "id": "rovgLKvKwpLL"
      }
    },
    {
      "cell_type": "code",
      "source": [
        "def add(self, x, y=0):\n",
        "    return x + y\n"
      ],
      "metadata": {
        "id": "wBMztjKgwvdu"
      },
      "execution_count": 14,
      "outputs": []
    },
    {
      "cell_type": "markdown",
      "source": [
        "Q12. What is method overriding in OOP?\n",
        "\n",
        "Ans:\n",
        "**Method overriding** allows a child class to provide a specific implementation for a method in the parent class."
      ],
      "metadata": {
        "id": "6cOzHFaixxcf"
      }
    },
    {
      "cell_type": "markdown",
      "source": [
        "Q13. What is a property decorator in Python?\n",
        "\n",
        "Ans:\n",
        "The **@property decorator** creates a method that can be accessed as an attribute."
      ],
      "metadata": {
        "id": "oqKA7Y-0x2cC"
      }
    },
    {
      "cell_type": "markdown",
      "source": [
        "Q14. Why is polymorphism important in OOP?\n",
        "\n",
        "Ans:\n",
        "**Polymorphism** simplifies code by allowing functions to process objects differently based on their types, promoting flexibility and reusability."
      ],
      "metadata": {
        "id": "RSYwu3Psx9Yy"
      }
    },
    {
      "cell_type": "markdown",
      "source": [
        "Q15. What is an abstract class in Python?\n",
        "\n",
        "Ans:\n",
        "An **abstract class** (from abc module) cannot be instantiated and contains abstract methods that must be implemented by subclasses."
      ],
      "metadata": {
        "id": "BcjQIHljyDbt"
      }
    },
    {
      "cell_type": "markdown",
      "source": [
        "Q16. What are the advantages of OOP?\n",
        "\n",
        "Ans:\n",
        "i) Code reusability\n",
        "\n",
        "ii) Scalability\n",
        "\n",
        "iii) Maintainability\n",
        "\n",
        "iv) Improved data security\n"
      ],
      "metadata": {
        "id": "3sobwqm1yGrY"
      }
    },
    {
      "cell_type": "markdown",
      "source": [
        "Q17. What is the difference between a class variable and an instance variable?\n",
        "\n",
        "Ans:\n",
        "**Class variables** are shared across all instances.\n",
        "\n",
        "**Instance variables** are unique to each object."
      ],
      "metadata": {
        "id": "eVcGSwXjyYEe"
      }
    },
    {
      "cell_type": "markdown",
      "source": [
        "Q18. What is multiple inheritance in Python?\n",
        "\n",
        "Ans:\n",
        "A class can inherit from multiple parent classes.\n",
        "\n",
        "Example:"
      ],
      "metadata": {
        "id": "rXHy4Lckygk4"
      }
    },
    {
      "cell_type": "code",
      "source": [
        "class A: pass\n",
        "class B: pass\n",
        "class C(A, B): pass\n"
      ],
      "metadata": {
        "id": "BvDbbidMymiM"
      },
      "execution_count": 15,
      "outputs": []
    },
    {
      "cell_type": "markdown",
      "source": [
        "Q19. Explain the purpose of _ _ str_ _ and _ _ repr_ _ methods in Python.\n",
        "\n",
        "Ans:\n",
        " _ _ str_ _   : User-friendly string representation of the object.\n",
        "\n",
        "_ _ repr_ _  : Detailed developer representation for debugging"
      ],
      "metadata": {
        "id": "c7d3uaySys2p"
      }
    },
    {
      "cell_type": "markdown",
      "source": [
        "Q20. What is the significance of the super() function in Python?\n",
        "\n",
        "Ans:\n",
        "super() calls the parent class’s methods, helping avoid duplicate code in inheritance."
      ],
      "metadata": {
        "id": "ayQmQIK-zF4D"
      }
    },
    {
      "cell_type": "markdown",
      "source": [
        "Q21. What is the significance of the  _ _ del_ _ method in Python?\n",
        "\n",
        "Ans:\n",
        "The _ _ del_ _ method is a destructor, called when an object is about to be destroyed.\n",
        "\n"
      ],
      "metadata": {
        "id": "NaPoHoGuzKUS"
      }
    },
    {
      "cell_type": "markdown",
      "source": [
        "Q22. What is the difference between @staticmethod and @classmethod in Python?\n",
        "\n",
        "Ans:\n",
        "**Static methods** are independent of class or instance.\n",
        "\n",
        "**Class methods** operate on the class and modify class state."
      ],
      "metadata": {
        "id": "vwGPBvI9zQnK"
      }
    },
    {
      "cell_type": "markdown",
      "source": [
        "Q23. How does polymorphism work in Python with inheritance?\n",
        "\n",
        "Ans:\n",
        "**Polymorphism** in Python allows methods in child classes to override methods from parent classes, while still supporting the parent interface.\n",
        "\n"
      ],
      "metadata": {
        "id": "hTMvDsaazXQJ"
      }
    },
    {
      "cell_type": "markdown",
      "source": [
        "Q24. What is method chaining in Python OOP?\n",
        "\n",
        "Ans:\n",
        "**Method chaining** allows multiple methods to be called on an object sequentially in a single line."
      ],
      "metadata": {
        "id": "6gnSSWLPzc8I"
      }
    },
    {
      "cell_type": "markdown",
      "source": [
        "Q25. What is the purpose of the _ _ call_ _ method in Python?\n",
        "\n",
        "Ans:\n",
        "The _ _ call_ _ method allows an object to be called as a function."
      ],
      "metadata": {
        "id": "GcEiWdnHzh_o"
      }
    },
    {
      "cell_type": "markdown",
      "source": [
        "# **Practical Questions**"
      ],
      "metadata": {
        "id": "qfb6-NlO1HJk"
      }
    },
    {
      "cell_type": "markdown",
      "source": [
        "Q1. Create a parent class Animal with a method speak() that prints a generic message. Create a child class Dog\n",
        "that overrides the speak() method to print \"Bark!\".\n",
        "\n",
        "Ans:"
      ],
      "metadata": {
        "id": "h1UQBk5H1JrJ"
      }
    },
    {
      "cell_type": "code",
      "source": [
        "class Animal:\n",
        "    def speak(self):\n",
        "        print(\"This is a generic animal sound.\")\n",
        "\n",
        "class Dog(Animal):\n",
        "    def speak(self):\n",
        "        print(\"Bark!\")\n",
        "\n",
        "# Test\n",
        "animal = Animal()\n",
        "animal.speak()\n",
        "\n",
        "dog = Dog()\n",
        "dog.speak()\n"
      ],
      "metadata": {
        "colab": {
          "base_uri": "https://localhost:8080/"
        },
        "id": "f2B24_oz1NPe",
        "outputId": "425a32eb-18ee-4259-9b5b-0eb20245e781"
      },
      "execution_count": 16,
      "outputs": [
        {
          "output_type": "stream",
          "name": "stdout",
          "text": [
            "This is a generic animal sound.\n",
            "Bark!\n"
          ]
        }
      ]
    },
    {
      "cell_type": "markdown",
      "source": [
        "Q2. Write a program to create an abstract class Shape with a method area(). Derive classes Circle and Rectangle\n",
        "from it and implement the area() method in both.\n",
        "\n",
        "Ans:"
      ],
      "metadata": {
        "id": "EB9XnbZM1Zf6"
      }
    },
    {
      "cell_type": "code",
      "source": [
        "from abc import ABC, abstractmethod\n",
        "\n",
        "class Shape(ABC):\n",
        "    @abstractmethod\n",
        "    def area(self):\n",
        "        pass\n",
        "\n",
        "class Circle(Shape):\n",
        "    def __init__(self, radius):\n",
        "        self.radius = radius\n",
        "\n",
        "    def area(self):\n",
        "        return 3.14 * self.radius ** 2\n",
        "\n",
        "class Rectangle(Shape):\n",
        "    def __init__(self, length, width):\n",
        "        self.length = length\n",
        "        self.width = width\n",
        "\n",
        "    def area(self):\n",
        "        return self.length * self.width\n",
        "\n",
        "# Test\n",
        "circle = Circle(5)\n",
        "print(f\"Circle area: {circle.area()}\")\n",
        "\n",
        "rectangle = Rectangle(4, 5)\n",
        "print(f\"Rectangle area: {rectangle.area()}\")\n"
      ],
      "metadata": {
        "colab": {
          "base_uri": "https://localhost:8080/"
        },
        "id": "kMt4er7T1kY6",
        "outputId": "7dffd196-4210-41ac-8e6f-ef20ac59c7a0"
      },
      "execution_count": 17,
      "outputs": [
        {
          "output_type": "stream",
          "name": "stdout",
          "text": [
            "Circle area: 78.5\n",
            "Rectangle area: 20\n"
          ]
        }
      ]
    },
    {
      "cell_type": "markdown",
      "source": [
        "Q3. Implement a multi-level inheritance scenario where a class Vehicle has an attribute type. Derive a class Car\n",
        "and further derive a class ElectricCar that adds a battery attribute.\n",
        "\n",
        "Ans:"
      ],
      "metadata": {
        "id": "0JGoV_Hu1r1P"
      }
    },
    {
      "cell_type": "code",
      "source": [
        "class Vehicle:\n",
        "    def __init__(self, vehicle_type):\n",
        "        self.type = vehicle_type\n",
        "\n",
        "class Car(Vehicle):\n",
        "    def __init__(self, vehicle_type, brand):\n",
        "        super().__init__(vehicle_type)\n",
        "        self.brand = brand\n",
        "\n",
        "class ElectricCar(Car):\n",
        "    def __init__(self, vehicle_type, brand, battery_capacity):\n",
        "        super().__init__(vehicle_type, brand)\n",
        "        self.battery = battery_capacity\n",
        "\n",
        "# Test\n",
        "e_car = ElectricCar(\"Electric\", \"Tesla\", \"100 kWh\")\n",
        "print(f\"Type: {e_car.type}, Brand: {e_car.brand}, Battery: {e_car.battery}\")\n"
      ],
      "metadata": {
        "colab": {
          "base_uri": "https://localhost:8080/"
        },
        "id": "BJTMkNtA1xQP",
        "outputId": "f0482c92-32f1-4649-94aa-75c8a78777b0"
      },
      "execution_count": 18,
      "outputs": [
        {
          "output_type": "stream",
          "name": "stdout",
          "text": [
            "Type: Electric, Brand: Tesla, Battery: 100 kWh\n"
          ]
        }
      ]
    },
    {
      "cell_type": "markdown",
      "source": [
        "Q4. Implement a multi-level inheritance scenario where a class Vehicle has an attribute type. Derive a class Car\n",
        "and further derive a class ElectricCar that adds a battery attribute.\n",
        "\n",
        "Ans:\n",
        "Same as Q3"
      ],
      "metadata": {
        "id": "jxEgsRea2RmG"
      }
    },
    {
      "cell_type": "markdown",
      "source": [
        "Q5. Write a program to demonstrate encapsulation by creating a class BankAccount with private attributes\n",
        "balance and methods to deposit, withdraw, and check balance.\n",
        "\n",
        "Ans:"
      ],
      "metadata": {
        "id": "98OgVHnM2mUq"
      }
    },
    {
      "cell_type": "code",
      "source": [
        "class BankAccount:\n",
        "    def __init__(self):\n",
        "        self.__balance = 0\n",
        "\n",
        "    def deposit(self, amount):\n",
        "        if amount > 0:\n",
        "            self.__balance += amount\n",
        "            print(f\"Deposited: {amount}\")\n",
        "\n",
        "    def withdraw(self, amount):\n",
        "        if 0 < amount <= self.__balance:\n",
        "            self.__balance -= amount\n",
        "            print(f\"Withdrawn: {amount}\")\n",
        "        else:\n",
        "            print(\"Insufficient balance!\")\n",
        "\n",
        "    def check_balance(self):\n",
        "        print(f\"Balance: {self.__balance}\")\n",
        "\n",
        "# Test\n",
        "account = BankAccount()\n",
        "account.deposit(500)\n",
        "account.withdraw(200)\n",
        "account.check_balance()\n"
      ],
      "metadata": {
        "colab": {
          "base_uri": "https://localhost:8080/"
        },
        "id": "2gkckLZ42rZA",
        "outputId": "ae18911f-37a7-49d5-fd96-02068835223c"
      },
      "execution_count": 19,
      "outputs": [
        {
          "output_type": "stream",
          "name": "stdout",
          "text": [
            "Deposited: 500\n",
            "Withdrawn: 200\n",
            "Balance: 300\n"
          ]
        }
      ]
    },
    {
      "cell_type": "markdown",
      "source": [
        "Q6. Demonstrate runtime polymorphism using a method play() in a base class Instrument. Derive classes Guitar\n",
        "and Piano that implement their own version of play().\n",
        "\n",
        "Ans:"
      ],
      "metadata": {
        "id": "ClGKOcke2328"
      }
    },
    {
      "cell_type": "code",
      "source": [
        "class Instrument:\n",
        "    def play(self):\n",
        "        print(\"Playing a generic instrument.\")\n",
        "\n",
        "class Guitar(Instrument):\n",
        "    def play(self):\n",
        "        print(\"Playing the guitar.\")\n",
        "\n",
        "class Piano(Instrument):\n",
        "    def play(self):\n",
        "        print(\"Playing the piano.\")\n",
        "\n",
        "# Test\n",
        "for instrument in [Guitar(), Piano()]:\n",
        "    instrument.play()\n"
      ],
      "metadata": {
        "colab": {
          "base_uri": "https://localhost:8080/"
        },
        "id": "t4fE4y8O26fY",
        "outputId": "43f30b0d-ae35-47bd-fd2e-88c6116667c8"
      },
      "execution_count": 20,
      "outputs": [
        {
          "output_type": "stream",
          "name": "stdout",
          "text": [
            "Playing the guitar.\n",
            "Playing the piano.\n"
          ]
        }
      ]
    },
    {
      "cell_type": "markdown",
      "source": [
        "Q7. Create a class MathOperations with a class method add_numbers() to add two numbers and a static\n",
        "method subtract_numbers() to subtract two numbers.\n",
        "\n",
        "Ans:"
      ],
      "metadata": {
        "id": "i1NqEAjq2-vH"
      }
    },
    {
      "cell_type": "code",
      "source": [
        "class MathOperations:\n",
        "    @classmethod\n",
        "    def add_numbers(cls, a, b):\n",
        "        return a + b\n",
        "\n",
        "    @staticmethod\n",
        "    def subtract_numbers(a, b):\n",
        "        return a - b\n",
        "\n",
        "# Test\n",
        "print(f\"Addition: {MathOperations.add_numbers(5, 3)}\")\n",
        "print(f\"Subtraction: {MathOperations.subtract_numbers(5, 3)}\")\n"
      ],
      "metadata": {
        "colab": {
          "base_uri": "https://localhost:8080/"
        },
        "id": "LWEuiEwJ3GhG",
        "outputId": "9cdf4e21-a03c-4a44-a59c-a72c879830a7"
      },
      "execution_count": 21,
      "outputs": [
        {
          "output_type": "stream",
          "name": "stdout",
          "text": [
            "Addition: 8\n",
            "Subtraction: 2\n"
          ]
        }
      ]
    },
    {
      "cell_type": "markdown",
      "source": [
        "Q8. Implement a class Person with a class method to count the total number of persons created\n",
        "\n",
        "Ans:"
      ],
      "metadata": {
        "id": "I5C1UJEt3Mz1"
      }
    },
    {
      "cell_type": "code",
      "source": [
        "class Person:\n",
        "    count = 0\n",
        "\n",
        "    def __init__(self):\n",
        "        Person.count += 1\n",
        "\n",
        "    @classmethod\n",
        "    def total_persons(cls):\n",
        "        return cls.count\n",
        "\n",
        "# Test\n",
        "p1 = Person()\n",
        "p2 = Person()\n",
        "print(f\"Total persons created: {Person.total_persons()}\")\n"
      ],
      "metadata": {
        "colab": {
          "base_uri": "https://localhost:8080/"
        },
        "id": "SUcnoujg3R4K",
        "outputId": "aa933e38-df51-4074-fd8c-81ed032c765b"
      },
      "execution_count": 22,
      "outputs": [
        {
          "output_type": "stream",
          "name": "stdout",
          "text": [
            "Total persons created: 2\n"
          ]
        }
      ]
    },
    {
      "cell_type": "markdown",
      "source": [
        "Q9. Write a class Fraction with attributes numerator and denominator. Override the str method to display the\n",
        "fraction as \"numerator/denominator\".\n",
        "\n",
        "Ans:"
      ],
      "metadata": {
        "id": "sskFCySc4YsQ"
      }
    },
    {
      "cell_type": "code",
      "source": [
        "class Fraction:\n",
        "    def __init__(self, numerator, denominator):\n",
        "        self.numerator = numerator\n",
        "        self.denominator = denominator\n",
        "\n",
        "    def __str__(self):\n",
        "        return f\"{self.numerator}/{self.denominator}\"\n",
        "\n",
        "# Test\n",
        "fraction = Fraction(3, 4)\n",
        "print(f\"Fraction: {fraction}\")\n"
      ],
      "metadata": {
        "colab": {
          "base_uri": "https://localhost:8080/"
        },
        "id": "mxaKiQZM4bLg",
        "outputId": "b09ad81e-25a3-4816-c797-2722185640ca"
      },
      "execution_count": 23,
      "outputs": [
        {
          "output_type": "stream",
          "name": "stdout",
          "text": [
            "Fraction: 3/4\n"
          ]
        }
      ]
    },
    {
      "cell_type": "markdown",
      "source": [
        "Q10. Demonstrate operator overloading by creating a class Vector and overriding the add method to add two\n",
        "vectors.\n",
        "\n",
        "Ans:"
      ],
      "metadata": {
        "id": "4sfMWo9D4g0j"
      }
    },
    {
      "cell_type": "code",
      "source": [
        "class Vector:\n",
        "    def __init__(self, x, y):\n",
        "        self.x = x\n",
        "        self.y = y\n",
        "\n",
        "    def __add__(self, other):\n",
        "        return Vector(self.x + other.x, self.y + other.y)\n",
        "\n",
        "    def __str__(self):\n",
        "        return f\"Vector({self.x}, {self.y})\"\n",
        "\n",
        "# Test\n",
        "v1 = Vector(1, 2)\n",
        "v2 = Vector(3, 4)\n",
        "print(f\"Sum: {v1 + v2}\")\n"
      ],
      "metadata": {
        "colab": {
          "base_uri": "https://localhost:8080/"
        },
        "id": "WPL_mBve4pmE",
        "outputId": "6eeb580d-4190-42af-965a-70bbeef2855b"
      },
      "execution_count": 24,
      "outputs": [
        {
          "output_type": "stream",
          "name": "stdout",
          "text": [
            "Sum: Vector(4, 6)\n"
          ]
        }
      ]
    },
    {
      "cell_type": "markdown",
      "source": [
        "Q11. Create a class Person with attributes name and age. Add a method greet() that prints \"Hello, my name is\n",
        "{name} and I am {age} years old.\"\n",
        "\n",
        "Ans:"
      ],
      "metadata": {
        "id": "SbOUGAHO4sj1"
      }
    },
    {
      "cell_type": "code",
      "source": [
        "class Person:\n",
        "    def __init__(self, name, age):\n",
        "        self.name = name\n",
        "        self.age = age\n",
        "\n",
        "    def greet(self):\n",
        "        print(f\"Hello, my name is {self.name} and I am {self.age} years old.\")\n",
        "\n",
        "# Test\n",
        "person = Person(\"John\", 25)\n",
        "person.greet()\n"
      ],
      "metadata": {
        "colab": {
          "base_uri": "https://localhost:8080/"
        },
        "id": "ghk-mFpn43Ll",
        "outputId": "588a7ae0-2ad9-4852-bee8-2757315f7f6c"
      },
      "execution_count": 25,
      "outputs": [
        {
          "output_type": "stream",
          "name": "stdout",
          "text": [
            "Hello, my name is John and I am 25 years old.\n"
          ]
        }
      ]
    },
    {
      "cell_type": "markdown",
      "source": [
        "Q12. Implement a class Student with attributes name and grades. Create a method average_grade() to compute\n",
        "the average of the grades.\n",
        "\n",
        "Ans:"
      ],
      "metadata": {
        "id": "ejzv3ucl446N"
      }
    },
    {
      "cell_type": "code",
      "source": [
        "class Student:\n",
        "    def __init__(self, name, grades):\n",
        "        self.name = name\n",
        "        self.grades = grades\n",
        "\n",
        "    def average_grade(self):\n",
        "        return sum(self.grades) / len(self.grades)\n",
        "\n",
        "# Test\n",
        "student = Student(\"Alice\", [85, 90, 80])\n",
        "print(f\"Average grade: {student.average_grade()}\")\n"
      ],
      "metadata": {
        "colab": {
          "base_uri": "https://localhost:8080/"
        },
        "id": "x0G1vDfP49X3",
        "outputId": "21a5afbf-9bfa-4b85-f0c9-b0a1dc7c91d1"
      },
      "execution_count": 26,
      "outputs": [
        {
          "output_type": "stream",
          "name": "stdout",
          "text": [
            "Average grade: 85.0\n"
          ]
        }
      ]
    },
    {
      "cell_type": "markdown",
      "source": [
        "Q13. Create a class Rectangle with methods set_dimensions() to set the dimensions and area() to calculate the\n",
        "area.\n",
        "\n",
        "Ans:"
      ],
      "metadata": {
        "id": "nBVuIX-T5BxY"
      }
    },
    {
      "cell_type": "code",
      "source": [
        "class Rectangle:\n",
        "    def set_dimensions(self, length, width):\n",
        "        self.length = length\n",
        "        self.width = width\n",
        "\n",
        "    def area(self):\n",
        "        return self.length * self.width\n",
        "\n",
        "# Test\n",
        "rect = Rectangle()\n",
        "rect.set_dimensions(4, 5)\n",
        "print(f\"Area: {rect.area()}\")\n"
      ],
      "metadata": {
        "colab": {
          "base_uri": "https://localhost:8080/"
        },
        "id": "mr3WeBmV5GGi",
        "outputId": "99fc2d94-4f12-4840-9211-a9c54cfebf0b"
      },
      "execution_count": 27,
      "outputs": [
        {
          "output_type": "stream",
          "name": "stdout",
          "text": [
            "Area: 20\n"
          ]
        }
      ]
    },
    {
      "cell_type": "markdown",
      "source": [
        "Q14. Create a class Employee with a method calculate_salary() that computes the salary based on hours worked\n",
        "and hourly rate. Create a derived class Manager that adds a bonus to the salary\n",
        "\n",
        "Ans:"
      ],
      "metadata": {
        "id": "M7nlc_LK5JaX"
      }
    },
    {
      "cell_type": "code",
      "source": [
        "class Employee:\n",
        "    def calculate_salary(self, hours_worked, hourly_rate):\n",
        "        return hours_worked * hourly_rate\n",
        "\n",
        "class Manager(Employee):\n",
        "    def calculate_salary(self, hours_worked, hourly_rate, bonus):\n",
        "        base_salary = super().calculate_salary(hours_worked, hourly_rate)\n",
        "        return base_salary + bonus\n",
        "\n",
        "# Test\n",
        "manager = Manager()\n",
        "print(f\"Salary: {manager.calculate_salary(40, 50, 500)}\")\n"
      ],
      "metadata": {
        "colab": {
          "base_uri": "https://localhost:8080/"
        },
        "id": "RdJ_bgnx5ObL",
        "outputId": "9f199517-0b71-4351-af8e-9dcdddefd3ee"
      },
      "execution_count": 28,
      "outputs": [
        {
          "output_type": "stream",
          "name": "stdout",
          "text": [
            "Salary: 2500\n"
          ]
        }
      ]
    },
    {
      "cell_type": "markdown",
      "source": [
        "Q15. Create a class Product with attributes name, price, and quantity. Implement a method total_price() that\n",
        "calculates the total price of the product.\n",
        "\n",
        "Ans:"
      ],
      "metadata": {
        "id": "9sb_FYnr5YIR"
      }
    },
    {
      "cell_type": "code",
      "source": [
        "class Product:\n",
        "    def __init__(self, name, price, quantity):\n",
        "        self.name = name\n",
        "        self.price = price\n",
        "        self.quantity = quantity\n",
        "\n",
        "    def total_price(self):\n",
        "        return self.price * self.quantity\n",
        "\n",
        "# Test\n",
        "product = Product(\"Laptop\", 1000, 2)\n",
        "print(f\"Total price: {product.total_price()}\")\n"
      ],
      "metadata": {
        "colab": {
          "base_uri": "https://localhost:8080/"
        },
        "id": "3vR8t11-5aM4",
        "outputId": "880915ba-461a-4e65-da6c-9d42cf89cf5f"
      },
      "execution_count": 29,
      "outputs": [
        {
          "output_type": "stream",
          "name": "stdout",
          "text": [
            "Total price: 2000\n"
          ]
        }
      ]
    },
    {
      "cell_type": "markdown",
      "source": [
        "Q16. Create a class Animal with an abstract method sound(). Create two derived classes Cow and Sheep that\n",
        "implement the sound() method.\n",
        "\n",
        "Ans:"
      ],
      "metadata": {
        "id": "4cOFRtVf5gpF"
      }
    },
    {
      "cell_type": "code",
      "source": [
        "from abc import ABC, abstractmethod\n",
        "\n",
        "class Animal(ABC):\n",
        "    @abstractmethod\n",
        "    def sound(self):\n",
        "        pass\n",
        "\n",
        "class Cow(Animal):\n",
        "    def sound(self):\n",
        "        return \"Moo\"\n",
        "\n",
        "class Sheep(Animal):\n",
        "    def sound(self):\n",
        "        return \"Baa\"\n",
        "\n",
        "# Test\n",
        "cow = Cow()\n",
        "print(f\"Cow sound: {cow.sound()}\")\n",
        "\n",
        "sheep = Sheep()\n",
        "print(f\"Sheep sound: {sheep.sound()}\")\n"
      ],
      "metadata": {
        "colab": {
          "base_uri": "https://localhost:8080/"
        },
        "id": "pVoIU7dO5kb0",
        "outputId": "4edf58ee-c313-4de5-973e-17652059cf7a"
      },
      "execution_count": 30,
      "outputs": [
        {
          "output_type": "stream",
          "name": "stdout",
          "text": [
            "Cow sound: Moo\n",
            "Sheep sound: Baa\n"
          ]
        }
      ]
    },
    {
      "cell_type": "markdown",
      "source": [
        "Q17. Create a class Book with attributes title, author, and year_published. Add a method get_book_info() that\n",
        "returns a formatted string with the book's details.\n",
        "\n",
        "Ans:"
      ],
      "metadata": {
        "id": "dAqgD6RM5wRZ"
      }
    },
    {
      "cell_type": "code",
      "source": [
        "class Book:\n",
        "    def __init__(self, title, author, year_published):\n",
        "        self.title = title\n",
        "        self.author = author\n",
        "        self.year_published = year_published\n",
        "\n",
        "    def get_book_info(self):\n",
        "        return f\"'{self.title}' by {self.author}, published in {self.year_published}\"\n",
        "\n",
        "# Test\n",
        "book = Book(\"1984\", \"George Orwell\", 1949)\n",
        "print(book.get_book_info())\n"
      ],
      "metadata": {
        "colab": {
          "base_uri": "https://localhost:8080/"
        },
        "id": "fIu76Ey65zKC",
        "outputId": "1dcb34d9-8fe6-481d-f0c7-c31a26211b8c"
      },
      "execution_count": 31,
      "outputs": [
        {
          "output_type": "stream",
          "name": "stdout",
          "text": [
            "'1984' by George Orwell, published in 1949\n"
          ]
        }
      ]
    },
    {
      "cell_type": "markdown",
      "source": [
        "Q18. Create a class House with attributes address and price. Create a derived class Mansion that adds an\n",
        "attribute number_of_rooms.\n",
        "\n",
        "Ans:"
      ],
      "metadata": {
        "id": "l1e_vlkV529w"
      }
    },
    {
      "cell_type": "code",
      "source": [
        "class House:\n",
        "    def __init__(self, address, price):\n",
        "        self.address = address\n",
        "        self.price = price\n",
        "\n",
        "class Mansion(House):\n",
        "    def __init__(self, address, price, number_of_rooms):\n",
        "        super().__init__(address, price)\n",
        "        self.number_of_rooms = number_of_rooms\n",
        "\n",
        "# Test\n",
        "mansion = Mansion(\"123 Luxury St\", 5000000, 10)\n",
        "print(f\"Address: {mansion.address}, Price: {mansion.price}, Rooms: {mansion.number_of_rooms}\")\n",
        "\n"
      ],
      "metadata": {
        "colab": {
          "base_uri": "https://localhost:8080/"
        },
        "id": "IHkckgpF57cP",
        "outputId": "d25f0202-b977-4cc0-8f43-56aeba8dde83"
      },
      "execution_count": 34,
      "outputs": [
        {
          "output_type": "stream",
          "name": "stdout",
          "text": [
            "Address: 123 Luxury St, Price: 5000000, Rooms: 10\n"
          ]
        }
      ]
    }
  ]
}